{
  "nbformat": 4,
  "nbformat_minor": 0,
  "metadata": {
    "colab": {
      "provenance": [],
      "authorship_tag": "ABX9TyOz3StyQy7ARmwa2OwunIpt",
      "include_colab_link": true
    },
    "kernelspec": {
      "name": "python3",
      "display_name": "Python 3"
    },
    "language_info": {
      "name": "python"
    }
  },
  "cells": [
    {
      "cell_type": "markdown",
      "metadata": {
        "id": "view-in-github",
        "colab_type": "text"
      },
      "source": [
        "<a href=\"https://colab.research.google.com/github/kimjian0406/python3.ipynb/blob/main/%ED%8C%8C%EC%9D%B4%EC%8D%AC_%EA%B3%BC%EC%A0%9C_1%EC%9D%BC%EC%B0%A8_2%EB%B2%88_ipynb.ipynb\" target=\"_parent\"><img src=\"https://colab.research.google.com/assets/colab-badge.svg\" alt=\"Open In Colab\"/></a>"
      ]
    },
    {
      "cell_type": "markdown",
      "source": [
        "<span style=\"font-size:80%\">[문제1]<br><br></span>\n",
        "```다음 중 14 % 3의 계산 결과로 옳은 것을 고르세요```\n",
        "\n",
        "1. 4\n",
        "2. 4.6\n",
        "3. 2\n",
        "4. 1\n",
        "\n",
        "답변 3번"
      ],
      "metadata": {
        "id": "bVgUnDZOcbre"
      }
    },
    {
      "cell_type": "markdown",
      "source": [
        "<span style=\"font-size:80%\">[문제2]<br><br></span>\n",
        "```다음 중 올바르지 않은 것을 고르세요```\n",
        "\n",
        "1. float(17//3)\n",
        "2. int(10)-9\n",
        "3. float11/2\n",
        "4. float(10)-2"
      ],
      "metadata": {
        "id": "H-8V4FFrcj3x"
      }
    },
    {
      "cell_type": "markdown",
      "source": [
        "답변 4번\n"
      ],
      "metadata": {
        "id": "V05I04edcoVR"
      }
    },
    {
      "cell_type": "markdown",
      "source": [
        "[문제3]<br><br>\n",
        "다음 계산식의 결괏값을 골라주세요\n",
        "\n",
        "(3 * 7 - 16) / 2 - 1"
      ],
      "metadata": {
        "id": "U6OXY91gctgK"
      }
    },
    {
      "cell_type": "markdown",
      "source": [
        "답변 1.5"
      ],
      "metadata": {
        "id": "WCpcxonvcv9d"
      }
    },
    {
      "cell_type": "markdown",
      "source": [
        "[문제4]<br><br>\n",
        "거듭제곱을 올바르게 표현한 식을 골라주세요\n",
        "\n",
        "1. 2 ^^ 3\n",
        "2. 2 ** 3\n",
        "3. 2 ^* 3\n",
        "4. 2 ~~ 3"
      ],
      "metadata": {
        "id": "C9hfa6G0c0jD"
      }
    },
    {
      "cell_type": "markdown",
      "source": [
        "답변 2번"
      ],
      "metadata": {
        "id": "pKewmZX_c3gb"
      }
    },
    {
      "cell_type": "markdown",
      "source": [
        "[문제5]<br><br>\n",
        "목과 나머지를 함께 구하기 위해 사용할 수 있는 표현을 골라주세요\n",
        "\n",
        "1. //\n",
        "2. divmod()\n",
        "3. %\n",
        "4. /"
      ],
      "metadata": {
        "id": "hHgjVfCac7AP"
      }
    },
    {
      "cell_type": "markdown",
      "source": [
        "답변 1번"
      ],
      "metadata": {
        "id": "f_xcoKJrc71p"
      }
    }
  ]
}