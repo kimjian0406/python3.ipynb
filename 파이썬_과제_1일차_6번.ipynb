{
  "nbformat": 4,
  "nbformat_minor": 0,
  "metadata": {
    "colab": {
      "provenance": [],
      "authorship_tag": "ABX9TyNSp/gJEuGErVYtdwgJXcN0"
    },
    "kernelspec": {
      "name": "python3",
      "display_name": "Python 3"
    },
    "language_info": {
      "name": "python"
    }
  },
  "cells": [
    {
      "cell_type": "markdown",
      "source": [
        "안녕하세요.<br><br>\n",
        "수강생 여러분~!\n",
        "\n",
        "\"Challenge : 사칙연산을 이용해 문제 풀기\"는 잘 풀어보셨나요?\n",
        "\n",
        "\n",
        "너~~무 어려웠어요! 하는 분들을 위해 만들어봤습니다!\n",
        "\n",
        "문제 도장깨기 !!!!!\n",
        "\n",
        "수학적 사고도 한번 길러보세용 :)\n",
        "\n",
        "차근차근 풀어나가면 파이썬 정복 가능입니다!\n",
        "\n",
        "화이팅 !\n",
        "\n",
        "\n",
        "Chapter04의 수업 내용을 바탕으로 아래 문제를 풀어주시면 됩니다.\n",
        "\n",
        "<br>\n",
        "\n",
        "[**답변 입력 방법**]\n",
        "\n",
        "문제 아래에 있는 코드 입력창에 정답코드를 작성하신 후  __▷ 버튼을 클릭해 코드를 실행__ 해보세요<br>\n",
        "<br>"
      ],
      "metadata": {
        "id": "MuYIk86Vi54W"
      }
    },
    {
      "cell_type": "markdown",
      "source": [
        "<br>\n",
        "\n",
        "__[문제1]__\n",
        "\n",
        "어떤 공원의 크기는 가로 50m, 세로 30m입니다.\n",
        "\n",
        "공원 내부에 5개의 조형물이 있으며, 각 조형물의 면적은 10m²입니다.\n",
        "\n",
        "이 공원의 실제 사용 면적을 구하세요. (cm로 구해주세요)\n",
        "\n",
        "\n"
      ],
      "metadata": {
        "id": "sX2BVYedi7p7"
      }
    },
    {
      "cell_type": "code",
      "source": [
        "공원의가로 = 50\n",
        "공원의세로 = 30\n",
        "조형물갯수 = 5\n",
        "조형물1개의면적 = 10\n",
        "전체공원면적 = 공원의가로 * 공원의세로\n",
        "전체조형물갯수 = 조형물갯수 * 조형물1개의면적\n",
        "실제사용한면적 = 전체공원면적 - 전체조형물갯수\n",
        "cm로바꾸면 = 실제사용한면적 * 10000\n",
        "print(cm로바꾸면)"
      ],
      "metadata": {
        "colab": {
          "base_uri": "https://localhost:8080/"
        },
        "id": "isVnX48li90j",
        "outputId": "310ffd89-eb25-43ca-c6b0-0d075bd31478"
      },
      "execution_count": 1,
      "outputs": [
        {
          "output_type": "stream",
          "name": "stdout",
          "text": [
            "14500000\n"
          ]
        }
      ]
    },
    {
      "cell_type": "markdown",
      "source": [
        "<br>\n",
        "\n",
        "__[문제2]__\n",
        "\n",
        "2권씩 묶여서 팔리는 책의 가격은 12,000원입니다.\n",
        "\n",
        "나는 3묶음을 살 겁니다.\n",
        "\n",
        "근데 최종 가격을 보니 10%의 세금이 붙어있습니다.\n",
        "\n",
        "최종 가격을 구해주세요."
      ],
      "metadata": {
        "id": "SHwFAZycjGtD"
      }
    },
    {
      "cell_type": "code",
      "source": [
        "두권씩묶음책 = 12000\n",
        "살때가격 = 두권씩묶음책 * 3\n",
        "총가격 = 살때가격 * 0.1\n",
        "print(총가격)"
      ],
      "metadata": {
        "colab": {
          "base_uri": "https://localhost:8080/"
        },
        "id": "AFjygXJnjIBK",
        "outputId": "8d8f11dc-56d3-44b5-e7da-d41138b66b38"
      },
      "execution_count": 2,
      "outputs": [
        {
          "output_type": "stream",
          "name": "stdout",
          "text": [
            "3600.0\n"
          ]
        }
      ]
    },
    {
      "cell_type": "markdown",
      "source": [
        "<br>\n",
        "\n",
        "__[문제3]__\n",
        "\n",
        "가로 20m, 세로 15m인 직사각형 정원의 면적을 구하세요.\n"
      ],
      "metadata": {
        "id": "C8Kcp91kjMp1"
      }
    },
    {
      "cell_type": "code",
      "source": [
        "가로 = 20\n",
        "세로 = 15\n",
        "직사각형정원면적 = 가로 * 세로\n",
        "print(직사각형정원면적)"
      ],
      "metadata": {
        "colab": {
          "base_uri": "https://localhost:8080/"
        },
        "id": "cdskkeT1jNio",
        "outputId": "17f353cd-f19a-46a7-c1d3-bf59418ba454"
      },
      "execution_count": 3,
      "outputs": [
        {
          "output_type": "stream",
          "name": "stdout",
          "text": [
            "300\n"
          ]
        }
      ]
    },
    {
      "cell_type": "markdown",
      "source": [
        "<br>\n",
        "\n",
        "__[문제3-1]__\n",
        "\n",
        "문제 1에서 구한 정원의 면적에서, 정원의 5%를 차지하는 풀밭 면적을 구하세요.\n",
        "\n",
        "\n"
      ],
      "metadata": {
        "id": "7WJ8qZbojR03"
      }
    },
    {
      "cell_type": "code",
      "source": [
        "가로 = 20\n",
        "세로 = 15\n",
        "직사각형정원면적 = 가로 * 세로\n",
        "풀밭의면적 = 직사각형정원면적 * 0.05\n",
        "print(풀밭의면적)"
      ],
      "metadata": {
        "colab": {
          "base_uri": "https://localhost:8080/"
        },
        "id": "jCwPnLqHjStT",
        "outputId": "244a9130-213c-4aba-b644-d349ab513154"
      },
      "execution_count": 4,
      "outputs": [
        {
          "output_type": "stream",
          "name": "stdout",
          "text": [
            "15.0\n"
          ]
        }
      ]
    },
    {
      "cell_type": "markdown",
      "source": [
        "__[문제3-2]__\n",
        "\n",
        "풀밭 면적을 제외한 나머지 정원의 면적에 나무를 심고 싶습니다.\n",
        "\n",
        "나무 1그루가 차지하는 면적이 2m²일 때, 심을 수 있는 나무의 최대 개수를 구하세요."
      ],
      "metadata": {
        "id": "Mjx4IYyDjVlF"
      }
    },
    {
      "cell_type": "code",
      "source": [
        "풀밭의면적 = 15\n",
        "나머지정원면적 = 300 - 15\n",
        "나무 = 2\n",
        "나무최대갯수 = 나머지정원면적 * 나무\n",
        "print(나무최대갯수)"
      ],
      "metadata": {
        "colab": {
          "base_uri": "https://localhost:8080/"
        },
        "id": "bb4ZEfoMjYHB",
        "outputId": "96836f3c-96f0-4560-ba5e-0ee812835b5a"
      },
      "execution_count": 5,
      "outputs": [
        {
          "output_type": "stream",
          "name": "stdout",
          "text": [
            "570\n"
          ]
        }
      ]
    }
  ]
}