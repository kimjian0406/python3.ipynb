{
  "nbformat": 4,
  "nbformat_minor": 0,
  "metadata": {
    "colab": {
      "provenance": [],
      "authorship_tag": "ABX9TyPlrb4x7ngWFeZg08mugUUG",
      "include_colab_link": true
    },
    "kernelspec": {
      "name": "python3",
      "display_name": "Python 3"
    },
    "language_info": {
      "name": "python"
    }
  },
  "cells": [
    {
      "cell_type": "markdown",
      "metadata": {
        "id": "view-in-github",
        "colab_type": "text"
      },
      "source": [
        "<a href=\"https://colab.research.google.com/github/kimjian0406/python3.ipynb/blob/main/%ED%8C%8C%EC%9D%B4%EC%8D%AC_%EA%B3%BC%EC%A0%9C_1%EC%9D%BC%EC%B0%A8_4%EB%B2%88_.ipynb\" target=\"_parent\"><img src=\"https://colab.research.google.com/assets/colab-badge.svg\" alt=\"Open In Colab\"/></a>"
      ]
    },
    {
      "cell_type": "markdown",
      "source": [
        "<span style=\"font-size:100%\">\n",
        "\n",
        "수업은 모두 열심히 들으셨나요?\n",
        "\n",
        "간혹 강의에서 언급되지 않은 내용이 문제로 나올 수 있습니다.<br>\n",
        "그럴땐 강의 내용 외 문제는 구글링을 통해 해결해주세요<br></span>\n",
        "<span style=\"font-size:80%\">\n",
        "(구글링 또한 개발자가 갖쳐야할 역량 중에 하나랍니다 😊)\n",
        "</span>\n",
        "\n",
        "---"
      ],
      "metadata": {
        "id": "BGdI6fbVfrsN"
      }
    },
    {
      "cell_type": "markdown",
      "source": [
        "<span style=\"font-size:80%\">[문제1]<br><br></span>\n",
        "```주로 작성 중인 코드의 끝을 알리는 기호로 사용되며 파이썬에서 한 줄에 작성된 서로 다른 코드를 구분 지을 때 사용할 수 있는 기호를 골라주세요```\n",
        "\n",
        "1. ' , ' (쉼표)\n",
        "2. ' + ' (더하기 기호)\n",
        "3. ' ; ' (세미콜론)\n",
        "4. ' / ' (슬래시)"
      ],
      "metadata": {
        "id": "Kgx44LLEgBNu"
      }
    },
    {
      "cell_type": "markdown",
      "source": [
        "<span style=\"color:red\">답변</span> : 3번"
      ],
      "metadata": {
        "id": "CXKAQTeCgER9"
      }
    },
    {
      "cell_type": "markdown",
      "source": [
        "<span style=\"font-size:80%\">[문제2]<br><br></span>\n",
        "```Python의 PEP 8은 무엇인지 설명하고 PEP 8의 핵심적인 규칙을 1개 이상을 설명해주세요```"
      ],
      "metadata": {
        "id": "_hL5msEJgF_u"
      }
    },
    {
      "cell_type": "markdown",
      "source": [
        "<span style=\"color:red\">답변</span>: PEP 8에는 변수명, 함수명, 클래스명에 대한 명명 규칙, 주석 작성 방법, 모듈 및 패키지 구조에 대한 권장 사항 등 다양한 규칙이 포함되어 있습니다"
      ],
      "metadata": {
        "id": "_Wxy6BxtgLoJ"
      }
    },
    {
      "cell_type": "markdown",
      "source": [
        "<span style=\"font-size:80%\">[문제3]<br><br></span>\n",
        "```Python에서 \"#\"이 의마하는 것은 무엇인지 설명해주세요```"
      ],
      "metadata": {
        "id": "gCYWqWXogoYn"
      }
    },
    {
      "cell_type": "markdown",
      "source": [
        "<span style=\"color:red\">답변</span> :# 기호는 주석(comment)을 나타냅니다. 주석은 코드 내에서 설명이나 메모를 추가하기 위해 사용되며, Python 인터프리터에 의해 무시됩니다. 즉, 주석은 프로그램의 실행에 영향을 미치지 않으며, 코드의 가독성을 높이고 다른 개발자(또는 미래의 자신)가 코드를 이해하는 데 도움을 줍니다."
      ],
      "metadata": {
        "id": "2SdVcu3qgqVL"
      }
    },
    {
      "cell_type": "markdown",
      "source": [
        "<span style=\"font-size:80%\">[문제4]<br><br></span>\n",
        "```Python의 들여쓰기 장점과 기능에 대해 설명해주세요```"
      ],
      "metadata": {
        "id": "GwWRodDMgsC5"
      }
    },
    {
      "cell_type": "markdown",
      "source": [
        "<span style=\"color:red\">답변</span> :Python의 들여쓰기는 코드의 가독성을 높이고, 구조를 명확히 하며, 오류를 줄이는 데 중요한 역할을 합니다. 이러한 특성 덕분에 Python은 초보자에게도 친숙한 언어로 여겨지며, 코드 작성 시 더 나은 경험을 제공합니다."
      ],
      "metadata": {
        "id": "kpP42gnigumn"
      }
    },
    {
      "cell_type": "markdown",
      "source": [
        "<span style=\"font-size:80%\">[문제5]<br><br></span>\n",
        "```print( )문의 기능 및 특징에 대해 설명해주세요```"
      ],
      "metadata": {
        "id": "x0Yln-EUgwnw"
      }
    },
    {
      "cell_type": "markdown",
      "source": [
        "<span style=\"color:red\">답변</span> : print() 문은 Python에서 데이터를 출력하는 데 필수적인 도구로, 다양한 기능과 유연성을 제공합니다. 이를 통해 개발자는 프로그램의 상태를 확인하고, 사용자와 상호작용하며, 디버깅을 수행할 수 있습니다."
      ],
      "metadata": {
        "id": "PmTwf3h3gyfD"
      }
    },
    {
      "cell_type": "markdown",
      "source": [],
      "metadata": {
        "id": "EE5G3nmJg0tx"
      }
    }
  ]
}