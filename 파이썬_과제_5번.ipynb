{
  "nbformat": 4,
  "nbformat_minor": 0,
  "metadata": {
    "colab": {
      "provenance": [],
      "authorship_tag": "ABX9TyOV2dXfQtsJbaVqRZ6RObmn",
      "include_colab_link": true
    },
    "kernelspec": {
      "name": "python3",
      "display_name": "Python 3"
    },
    "language_info": {
      "name": "python"
    }
  },
  "cells": [
    {
      "cell_type": "markdown",
      "metadata": {
        "id": "view-in-github",
        "colab_type": "text"
      },
      "source": [
        "<a href=\"https://colab.research.google.com/github/kimjian0406/python3.ipynb/blob/main/%ED%8C%8C%EC%9D%B4%EC%8D%AC_%EA%B3%BC%EC%A0%9C_5%EB%B2%88.ipynb\" target=\"_parent\"><img src=\"https://colab.research.google.com/assets/colab-badge.svg\" alt=\"Open In Colab\"/></a>"
      ]
    },
    {
      "cell_type": "markdown",
      "source": [
        "안녕하세요.<br><br>\n",
        "수강생 여러분~!\n",
        "\n",
        "\"Challenge : 사칙연산을 이용해 문제 풀기\"는 잘 풀어보셨나요?\n",
        "\n",
        "\n",
        "너~~무 어려웠어요! 하는 분들을 위해 만들어봤습니다!\n",
        "\n",
        "문제 도장깨기 !!!!!\n",
        "\n",
        "차근차근 풀어나가면 파이썬 정복 가능입니다!\n",
        "\n",
        "화이팅 !\n",
        "\n",
        "\n",
        "Chapter04의 수업 내용을 바탕으로 아래 문제를 풀어주시면 됩니다.\n",
        "\n",
        "<br>\n",
        "\n",
        "[**답변 입력 방법**]\n",
        "\n",
        "문제 아래에 있는 코드 입력창에 정답코드를 작성하신 후  __▷ 버튼을 클릭해 코드를 실행__ 해보세요<br>\n",
        "<br>"
      ],
      "metadata": {
        "id": "0iLqBV4EhUOK"
      }
    },
    {
      "cell_type": "markdown",
      "source": [
        "<br>\n",
        "\n",
        "__[문제1]__\n",
        "\n",
        "한 상자에 사과가 7개 들어있습니다.\n",
        "\n",
        "사과가 많이 먹고 싶어서 3개의 상자를 구입했습니다!\n",
        "\n",
        "총 사과의 개수를 계산해주세요.\n",
        "\n",
        "\n",
        "<br>"
      ],
      "metadata": {
        "id": "wqKExHJchZYO"
      }
    },
    {
      "cell_type": "code",
      "source": [
        "apple = 7\n",
        "more = 3\n",
        "print(apple + more,\"개\")"
      ],
      "metadata": {
        "colab": {
          "base_uri": "https://localhost:8080/"
        },
        "id": "1iYBk12IhbOz",
        "outputId": "d1e09197-319f-49c0-9952-b08885201232"
      },
      "execution_count": 1,
      "outputs": [
        {
          "output_type": "stream",
          "name": "stdout",
          "text": [
            "10 개\n"
          ]
        }
      ]
    },
    {
      "cell_type": "markdown",
      "source": [
        "<br>\n",
        "\n",
        "__[문제2]__\n",
        "\n",
        "영화 티켓 한 장의 가격은 10,000원입니다.\n",
        "\n",
        "친구 한명이 로또에 당첨되서 티켓을 사준다고 합니다!\n",
        "\n",
        "4명의 친구가 각각 4장씩 구매할 때, 총 가격이 어떻게 되는지 계산해주세요\n",
        "\n",
        "<br>"
      ],
      "metadata": {
        "id": "irOc7qVxhgBf"
      }
    },
    {
      "cell_type": "code",
      "source": [
        "영화티켓 = 10000\n",
        "친구 = 4\n",
        "print(영화티켓 * 친구,\"원\" )"
      ],
      "metadata": {
        "colab": {
          "base_uri": "https://localhost:8080/"
        },
        "id": "FBTwX9CKhmeW",
        "outputId": "e2dc4f8e-c4c2-442b-d499-7471f664e2ad"
      },
      "execution_count": 2,
      "outputs": [
        {
          "output_type": "stream",
          "name": "stdout",
          "text": [
            "40000 원\n"
          ]
        }
      ]
    },
    {
      "cell_type": "markdown",
      "source": [
        "<br>\n",
        "\n",
        "__[문제3]__\n",
        "\n",
        "지각입니다 !!!!!\n",
        "\n",
        "지하철을 타고 5개의 역이 남았습니다.\n",
        "\n",
        "각 역은 3분씩 걸립니다. 시간을 계산해볼 수 있도록 5개의 역을 지나는데 걸린 총 시간을 구해주세요.\n",
        "\n"
      ],
      "metadata": {
        "id": "ikvgkAkJhp-5"
      }
    },
    {
      "cell_type": "code",
      "source": [
        "지하철역 = 5\n",
        "걸리는시간 = 3\n",
        "총시간 = 지하철역 * 걸리는시간\n",
        "print(총시간, \"분\")"
      ],
      "metadata": {
        "colab": {
          "base_uri": "https://localhost:8080/"
        },
        "id": "O55P3VUWhs4C",
        "outputId": "cdd09570-fa86-49b7-dc9d-7b18a68460d1"
      },
      "execution_count": 3,
      "outputs": [
        {
          "output_type": "stream",
          "name": "stdout",
          "text": [
            "15 분\n"
          ]
        }
      ]
    },
    {
      "cell_type": "markdown",
      "source": [
        "<br>__[문제4]__\n",
        "\n",
        "파이썬 기초 관련 책이 9권 있습니다.\n",
        "\n",
        "오즈코딩스쿨을 통해 파이썬을 마스터 해버려서 필요없습니다.\n",
        "\n",
        "책을 3명의 친구에게 똑같이 나눠줄 때, 각 사람에게 몇 권씩 나누어줄 수 있을까요?\n"
      ],
      "metadata": {
        "id": "kcQOv1LDh0mM"
      }
    },
    {
      "cell_type": "code",
      "source": [
        "파이썬기초관련책 = 9\n",
        "나눠줄친구 = 3\n",
        "총받을수있는인원수 = 파이썬기초관련책 / 나눠줄친구\n",
        "print(총받을수있는인원수,\"명\")"
      ],
      "metadata": {
        "colab": {
          "base_uri": "https://localhost:8080/"
        },
        "id": "4ZUQmz8Yh21z",
        "outputId": "3589818f-baed-4cdc-9948-5abfb42aac33"
      },
      "execution_count": 4,
      "outputs": [
        {
          "output_type": "stream",
          "name": "stdout",
          "text": [
            "3.0 명\n"
          ]
        }
      ]
    },
    {
      "cell_type": "markdown",
      "source": [
        "__[문제5]__\n",
        "\n",
        "무인도에 2명의 갇혀있습니다.\n",
        "\n",
        "가진건 초콜릿 8개뿐,,\n",
        "\n",
        "각 사람은 초콜릿을 몇 개씩 먹을 수 있을까요?\n",
        "\n"
      ],
      "metadata": {
        "id": "VSuiVhNZh5xB"
      }
    },
    {
      "cell_type": "code",
      "source": [
        "무인도 = 2\n",
        "초콜렛 = 8\n",
        "print(초콜렛 / 무인도)"
      ],
      "metadata": {
        "colab": {
          "base_uri": "https://localhost:8080/"
        },
        "id": "wkEsxID8iASE",
        "outputId": "db998877-03c0-4139-8a6e-59682fcea9d5"
      },
      "execution_count": 5,
      "outputs": [
        {
          "output_type": "stream",
          "name": "stdout",
          "text": [
            "4.0\n"
          ]
        }
      ]
    }
  ]
}