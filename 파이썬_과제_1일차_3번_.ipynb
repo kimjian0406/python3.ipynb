{
  "nbformat": 4,
  "nbformat_minor": 0,
  "metadata": {
    "colab": {
      "provenance": [],
      "authorship_tag": "ABX9TyOvt1RNXoZCMrDGwIOU7W6b",
      "include_colab_link": true
    },
    "kernelspec": {
      "name": "python3",
      "display_name": "Python 3"
    },
    "language_info": {
      "name": "python"
    }
  },
  "cells": [
    {
      "cell_type": "markdown",
      "metadata": {
        "id": "view-in-github",
        "colab_type": "text"
      },
      "source": [
        "<a href=\"https://colab.research.google.com/github/kimjian0406/python3.ipynb/blob/main/%ED%8C%8C%EC%9D%B4%EC%8D%AC_%EA%B3%BC%EC%A0%9C_1%EC%9D%BC%EC%B0%A8_3%EB%B2%88_.ipynb\" target=\"_parent\"><img src=\"https://colab.research.google.com/assets/colab-badge.svg\" alt=\"Open In Colab\"/></a>"
      ]
    },
    {
      "cell_type": "markdown",
      "source": [
        "<span style=\"font-size:80%\">[문제1]<br><br></span>\n",
        "```인터프리트 방식에 대해 설명하고 2개 이상의 장점을 설명해주세요```"
      ],
      "metadata": {
        "id": "ojfJRiq4dxd_"
      }
    },
    {
      "cell_type": "markdown",
      "source": [
        "<span style=\"color:red\">답변:즉각적으로 결과를 알수있다./빠르게 수정이 가능하다. </span>"
      ],
      "metadata": {
        "id": "IHSkPHM0d-wB"
      }
    },
    {
      "cell_type": "markdown",
      "source": [
        "<span style=\"font-size:80%\">[문제2]<br><br></span>\n",
        "```동적 타입 방식의 장점과 단점을 간략히 설명해주세요```"
      ],
      "metadata": {
        "id": "4cjmzrMfeAHk"
      }
    },
    {
      "cell_type": "markdown",
      "source": [
        "<span style=\"color:red\">답변: 장점)코드가 간결하고 빠르게 개발이 가능함/ 단점) 타입 오류가 실행중일때에만 발견됌 그래서 찾기 어려울수있음</span>"
      ],
      "metadata": {
        "id": "n0nOrN6jeDad"
      }
    },
    {
      "cell_type": "markdown",
      "source": [
        "<span style=\"font-size:80%\">[문제3]<br><br></span>\n",
        "```Python으로 정적타입 방식의 코드를 작성할 수 있는 방법을 구글링을 통해 검색 후 설명해주세요```"
      ],
      "metadata": {
        "id": "09wRtHkqeFUL"
      }
    },
    {
      "cell_type": "markdown",
      "source": [
        "답변:)Python에서 정적 타입 방식을 구현하기 위해서는 타입 힌트를 사용하여 변수와 함수의 타입을 명시적으로 지정할 수 있습니다. 이를 통해 코드의 가독성을 높이고, 타입 오류를 사전에 방지할 수 있습니다. mypy와 같은 도구를 활용하여 코드의 타입을 검사하는 것도 좋은 방법입니다. Python의 동적 타입 특성을 유지하면서도 정적 타입의 장점을 누릴 수 있는 방법입니다."
      ],
      "metadata": {
        "id": "pfE7muhteHeV"
      }
    },
    {
      "cell_type": "markdown",
      "source": [
        "<span style=\"font-size:80%\">[문제4]<br><br></span>\n",
        "```프로세스와 스레드의 차이점을 설명해주세요```"
      ],
      "metadata": {
        "id": "np8-JnO4eJy6"
      }
    },
    {
      "cell_type": "markdown",
      "source": [
        "<span style=\"color:red\">답변</span>: 프로세스는 독립적인 실행 단위로, 각기 다른 메모리 공간을 가지며, 생성 및 관리가 비용이 많이 듬.\n",
        "스레드는 경량의 실행 단위로, 같은 프로세스 내에서 메모리를 공유하며, 생성 및 관리가 더 효율적이다."
      ],
      "metadata": {
        "id": "adnfjXPXeRxS"
      }
    },
    {
      "cell_type": "markdown",
      "source": [
        "<span style=\"font-size:80%\">[문제5]<br><br></span>\n",
        "```Python 2버전대와 3버전대의 차이를 성명해주세요```"
      ],
      "metadata": {
        "id": "w7V5NZlfeUIG"
      }
    },
    {
      "cell_type": "markdown",
      "source": [
        "<span style=\"color:red\">답변</span>:  2와 3의 버전 차이 문자열 처리, print 문, 정수 나눗셈, 입력 함수 등에서 중요한 차이점이 있으며, Python 3는 더 나은 국제화 지원과 현대적인 프로그래밍 스타일을 제공한다."
      ],
      "metadata": {
        "id": "ues-Juc3edM-"
      }
    },
    {
      "cell_type": "markdown",
      "source": [
        "<span style=\"font-size:80%\">[문제6]<br><br></span>\n",
        "```Python에서 메모리 관리는 어떻게 이루어지는지 설명해주세요```"
      ],
      "metadata": {
        "id": "YzgLFmJ3efXS"
      }
    },
    {
      "cell_type": "markdown",
      "source": [
        "<span style=\"color:red\">답변</span> :Python의 메모리 관리는 주로 참조 카운팅과 가비지 컬렉션을 통해 이루어지며, 이를 통해 메모리 사용을 효율적으로 관리합니다. 이러한 자동 메모리 관리 시스템 덕분에 개발자는 메모리 할당과 해제에 대한 부담을 덜 수 있습니다. 그러나 순환 참조와 같은 특정 상황에서는 메모리 누수가 발생할 수 있으므로 주의가 필요합니다."
      ],
      "metadata": {
        "id": "UKr_L64HehZc"
      }
    },
    {
      "cell_type": "markdown",
      "source": [],
      "metadata": {
        "id": "FUjyrHR9et_O"
      }
    }
  ]
}